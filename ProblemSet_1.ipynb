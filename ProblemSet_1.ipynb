{
  "nbformat": 4,
  "nbformat_minor": 0,
  "metadata": {
    "colab": {
      "provenance": []
    },
    "kernelspec": {
      "name": "python3",
      "display_name": "Python 3"
    },
    "language_info": {
      "name": "python"
    }
  },
  "cells": [
    {
      "cell_type": "code",
      "execution_count": 8,
      "metadata": {
        "id": "5KUET9F2RuMN"
      },
      "outputs": [],
      "source": []
    },
    {
      "cell_type": "markdown",
      "source": [
        "**1**"
      ],
      "metadata": {
        "id": "9lf4sGNDUUKc"
      }
    },
    {
      "cell_type": "markdown",
      "source": [
        "A."
      ],
      "metadata": {
        "id": "_QEU3cjVUdOg"
      }
    },
    {
      "cell_type": "code",
      "source": [
        "import math\n",
        "\n",
        "variable_1 = 5\n",
        "variable_2 = 5.0\n",
        "variable_3 = 5>1\n",
        "variable_4 = '5'\n",
        "variable_5 = 5*2\n",
        "variable_6 = '5'* 2\n",
        "variable_7 = '5' +'2'\n",
        "variable_8 = 5/2\n",
        "variable_9 = 5 % 2\n",
        "variable_10 =  {5,2,1}\n",
        "variable_11 = 5 == 3\n",
        "variable_12 = math.pi\n",
        "\n",
        "\n",
        "print(type (variable_1))\n",
        "print(type (variable_2))\n",
        "print(type (variable_3))\n",
        "print(type (variable_4))\n",
        "print(type (variable_5))\n",
        "print(type (variable_6))\n",
        "print(type (variable_7))\n",
        "print(type (variable_8))\n",
        "print(type (variable_9))\n",
        "print(type (variable_10))\n",
        "print(type (variable_11))\n",
        "print(type (variable_12))\n"
      ],
      "metadata": {
        "colab": {
          "base_uri": "https://localhost:8080/"
        },
        "id": "6-Z4FPVtUfyB",
        "outputId": "4513b1fc-c2ba-4e43-f991-d4acb0aaad55"
      },
      "execution_count": null,
      "outputs": [
        {
          "output_type": "stream",
          "name": "stdout",
          "text": [
            "<class 'int'>\n",
            "<class 'float'>\n",
            "<class 'bool'>\n",
            "<class 'str'>\n",
            "<class 'int'>\n",
            "<class 'str'>\n",
            "<class 'str'>\n",
            "<class 'float'>\n",
            "<class 'int'>\n",
            "<class 'set'>\n",
            "<class 'bool'>\n",
            "<class 'float'>\n"
          ]
        }
      ]
    },
    {
      "cell_type": "markdown",
      "source": [
        "** 2**"
      ],
      "metadata": {
        "id": "D8iGU8gnUkRx"
      }
    },
    {
      "cell_type": "code",
      "source": [
        "# a.\n",
        "word = 'Supercalifragilisticexpialidocious'\n",
        "\n",
        "print(len(word))\n",
        "\n",
        "# b.\n",
        "if 'ice' in word:\n",
        "    print('If it contains ice as a substring')\n",
        "else:\n",
        "    print('it does not have ice as a substring')\n",
        "\n",
        "# c.\n",
        "words = [\"Supercalifragilisticexpialidocious\", \"Honorificabilitudinitatibus\", \"Bababadalgharaghtakamminarronnkonn\"]\n",
        "longest_word = max(word, key=len)\n",
        "print(longest_word, ' with ', len(longest_word), ' letters')\n",
        "\n",
        "# d.\n",
        "orden=['Berlioz', 'Borodin', 'Brian', 'Bartok', 'Bellini', 'Buxtehude', 'Bernstein']\n",
        "print(sorted(orden))"
      ],
      "metadata": {
        "colab": {
          "base_uri": "https://localhost:8080/"
        },
        "id": "ruuk3H8-Umas",
        "outputId": "7a5fd027-4e5c-42d6-cbe5-1b199110faff"
      },
      "execution_count": null,
      "outputs": [
        {
          "output_type": "stream",
          "name": "stdout",
          "text": [
            "34\n",
            "If it contains ice as a substring\n",
            "S  with  1  letters\n",
            "['Bartok', 'Bellini', 'Berlioz', 'Bernstein', 'Borodin', 'Brian', 'Buxtehude']\n"
          ]
        }
      ]
    },
    {
      "cell_type": "markdown",
      "source": [
        "**3**"
      ],
      "metadata": {
        "id": "IK0_Kp0TUs4R"
      }
    },
    {
      "cell_type": "code",
      "source": [
        "import math\n",
        "def triangleArea(a,b,c):\n",
        "    s= (a+b+c)/2\n",
        "    area = math.sqrt(s*(s-a)*(s-b)*(s-c))\n",
        "    return area\n",
        "result = triangleArea(2,2,2)\n",
        "print (result)"
      ],
      "metadata": {
        "colab": {
          "base_uri": "https://localhost:8080/"
        },
        "id": "iO7kcwmaUt_v",
        "outputId": "f997a81f-6837-4571-c3c6-8ff7b9fa345f"
      },
      "execution_count": null,
      "outputs": [
        {
          "output_type": "stream",
          "name": "stdout",
          "text": [
            "1.7320508075688772\n"
          ]
        }
      ]
    },
    {
      "cell_type": "markdown",
      "source": [
        "**4**"
      ],
      "metadata": {
        "id": "iaX8H3jlVjLL"
      }
    },
    {
      "cell_type": "code",
      "source": [
        "num_elements=int(input(\"input the number of elements to be stored in the array:\\n\"))\n",
        "elements=[]\n",
        "for i in range (num_elements):\n",
        "    element=int(input(f\"element-{i}:\"))\n",
        "    elements.append(element)\n",
        "even_numbers = [num for num in elements if num % 2 ==0]\n",
        "odd_numbers = [num for num in elements if num % 2!=0]\n",
        "print(\"the even elements are:\", even_numbers)\n",
        "print(\"the odd elements are:\", odd_numbers)"
      ],
      "metadata": {
        "id": "nKoyampjVnMT",
        "colab": {
          "base_uri": "https://localhost:8080/"
        },
        "outputId": "ea2fbd81-5159-46eb-c5c3-2372263f9171"
      },
      "execution_count": 9,
      "outputs": [
        {
          "output_type": "stream",
          "name": "stdout",
          "text": [
            "input the number of elements to be stored in the array:\n",
            "5\n",
            "element-0:25\n",
            "element-1:47\n",
            "element-2:42\n",
            "element-3:56\n",
            "element-4:32\n",
            "the even elements are: [42, 56, 32]\n",
            "the odd elements are: [25, 47]\n"
          ]
        }
      ]
    },
    {
      "cell_type": "markdown",
      "source": [
        "**5**"
      ],
      "metadata": {
        "id": "h68c6WKZVs2W"
      }
    },
    {
      "cell_type": "code",
      "source": [
        "#a\n",
        "def inside (x,y,x1,y1,x2,y2):\n",
        "    return x1 <= x <= x2 and y1 <= y <= y2\n",
        "print(inside(1,1,0,0,2,3))\n",
        "print(inside (-1,-1,0,0,2,3))\n",
        "#b\n",
        "rectangle1 = (0.3,0.5,1.1,0.7)\n",
        "rectangle2 = (0.5,0.2,1.1,2)\n",
        "in_rectangle1 = inside(1,1,rectangle1[0],rectangle1[1], rectangle1[2],rectangle1[3])\n",
        "in_rectangle2 = inside(1,1,rectangle2[0], rectangle2[1], rectangle2[2], rectangle2[3])\n",
        "print(in_rectangle1 and in_rectangle2)"
      ],
      "metadata": {
        "id": "yd1XJYYoVwND",
        "colab": {
          "base_uri": "https://localhost:8080/"
        },
        "outputId": "7aa18c09-63d9-40c4-bc84-4a9d29cbe187"
      },
      "execution_count": 10,
      "outputs": [
        {
          "output_type": "stream",
          "name": "stdout",
          "text": [
            "True\n",
            "False\n",
            "False\n"
          ]
        }
      ]
    },
    {
      "cell_type": "markdown",
      "source": [
        "6"
      ],
      "metadata": {
        "id": "g5fgV3DwWdMS"
      }
    },
    {
      "cell_type": "code",
      "source": [
        "def pig(word):\n",
        "    word = word.lower()\n",
        "    vowels = ['a','e','i','o','u']\n",
        "    if word[0] in vowels:\n",
        "        return word + 'way'\n",
        "    else:\n",
        "        return word[1:]+word[0]+'ay'\n",
        "print(pig('happy'))\n",
        "print(pig('pencil'))\n",
        "print(pig('enter'))\n",
        "print(pig('other'))\n"
      ],
      "metadata": {
        "id": "p6Flp6cGWoYI",
        "colab": {
          "base_uri": "https://localhost:8080/"
        },
        "outputId": "e4ba3d9a-ab8b-466e-f842-05b29fd645a6"
      },
      "execution_count": 11,
      "outputs": [
        {
          "output_type": "stream",
          "name": "stdout",
          "text": [
            "appyhay\n",
            "encilpay\n",
            "enterway\n",
            "otherway\n"
          ]
        }
      ]
    },
    {
      "cell_type": "markdown",
      "source": [
        "7"
      ],
      "metadata": {
        "id": "01EiytBKWtf1"
      }
    },
    {
      "cell_type": "code",
      "source": [
        "def bldcount(filename):\n",
        "    with open(filename, 'r') as file:\n",
        "        blood_type_count = {}\n",
        "        for line in file:\n",
        "            blood_types = line.strip().split(' ')\n",
        "            print(blood_types)\n",
        "            for blood_type in blood_types:\n",
        "                if blood_type in blood_type_count:\n",
        "                    blood_type_count[blood_type] += 1\n",
        "                else:\n",
        "                    blood_type_count[blood_type] = 1\n",
        "        for blood_type, count in blood_type_count.items():\n",
        "            if count == 1:\n",
        "                print(f'There is one patient of blood type {blood_type}.')\n",
        "            else:\n",
        "                print(f'There are {count} patients of blood type {blood_type}.')\n",
        "\n",
        "bldcount('bloodtype.txt')"
      ],
      "metadata": {
        "id": "X2LsRkJ7WwRC",
        "colab": {
          "base_uri": "https://localhost:8080/"
        },
        "outputId": "c5a85d89-bb9e-4e9b-9825-fa5eb4630de7"
      },
      "execution_count": 12,
      "outputs": [
        {
          "output_type": "stream",
          "name": "stdout",
          "text": [
            "['AB', 'AB', 'B', 'O', 'A', 'A', 'AB', 'O', 'AB', 'A', 'O', 'O', 'A', 'A', 'A', 'O', 'O', 'O', 'AB', 'O', 'A', 'A', 'A', 'A', 'A', 'AB', 'AB', 'A', 'AB', 'O', 'AB', 'O', 'A', 'O', 'O', 'O', 'AB', 'O', 'AB', 'AB', 'AB', 'A', 'A', 'O']\n",
            "There are 13 patients of blood type AB.\n",
            "There is one patient of blood type B.\n",
            "There are 15 patients of blood type O.\n",
            "There are 15 patients of blood type A.\n"
          ]
        }
      ]
    },
    {
      "cell_type": "markdown",
      "source": [
        "8"
      ],
      "metadata": {
        "id": "fmjpKZ0sWz_S"
      }
    },
    {
      "cell_type": "code",
      "source": [
        "def curconv(currency, amount):\n",
        "    parts = []\n",
        "    with open('currencies.txt','r') as file:\n",
        "\n",
        "        for line in file:\n",
        "            if line.startswith(currency):\n",
        "                parts=line.split()[1]\n",
        "\n",
        "    return(float(parts)*amount)\n",
        "\n",
        "print(curconv('EUR',100))\n",
        "print(curconv('JPY',100))\n"
      ],
      "metadata": {
        "id": "7DbvanC_W1ot",
        "colab": {
          "base_uri": "https://localhost:8080/"
        },
        "outputId": "1f7ecc3b-3914-437e-fe4e-b348584d3a39"
      },
      "execution_count": 13,
      "outputs": [
        {
          "output_type": "stream",
          "name": "stdout",
          "text": [
            "122.96544\n",
            "1.241401\n"
          ]
        }
      ]
    },
    {
      "cell_type": "markdown",
      "source": [
        "9."
      ],
      "metadata": {
        "id": "9UgVCoLpW4tA"
      }
    },
    {
      "cell_type": "markdown",
      "source": [
        "1. Trying to add incompatible variables, as in adding 6 + ‘a’: This will cause a TypeError.\n",
        "\n",
        "2. Referring to the 12th item of a list that has only 10 items: This will cause an IndexError.\n",
        "\n",
        "3. Using a value that is out of range for a function’s input, such as calling math.sqrt(-1.0): This will cause a ValueError.\n",
        "\n",
        "4. Using an undeclared variable, such as print(x) when x has not been defined: This will cause a NameError.\n",
        "\n",
        "5. Trying to open a file that does not exist, such as mistyping the file name or looking in the wrong directory: This will cause a FileNotFoundError."
      ],
      "metadata": {
        "id": "djy0OGRudRc7"
      }
    },
    {
      "cell_type": "markdown",
      "source": [
        "10"
      ],
      "metadata": {
        "id": "iO3qZM-Xdswc"
      }
    },
    {
      "cell_type": "code",
      "source": [
        "def frequencies(text):\n",
        "    frequencies_list=[]\n",
        "    letters='abcdefghijklmnopqrstuvwxyz'\n",
        "    frequencies_list =[text.lower().count(letter) for letter in letters]\n",
        "    return frequencies_list\n",
        "print(frequencies('the quick red fox got bored and went home'))\n",
        "print(frequencies('apple'))"
      ],
      "metadata": {
        "id": "SCE3N-74dt92",
        "colab": {
          "base_uri": "https://localhost:8080/"
        },
        "outputId": "3e9ee366-7157-44ed-af6e-b4913a8b171c"
      },
      "execution_count": 14,
      "outputs": [
        {
          "output_type": "stream",
          "name": "stdout",
          "text": [
            "[1, 1, 1, 3, 5, 1, 1, 2, 1, 0, 1, 0, 1, 2, 4, 0, 1, 2, 0, 3, 1, 0, 1, 1, 0, 0]\n",
            "[1, 0, 0, 0, 1, 0, 0, 0, 0, 0, 0, 1, 0, 0, 0, 2, 0, 0, 0, 0, 0, 0, 0, 0, 0, 0]\n"
          ]
        }
      ]
    }
  ]
}